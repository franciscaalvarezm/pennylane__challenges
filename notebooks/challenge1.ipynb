{
 "cells": [
  {
   "attachments": {},
   "cell_type": "markdown",
   "metadata": {},
   "source": [
    "# **1. Comparing expectation values**"
   ]
  },
  {
   "cell_type": "code",
   "execution_count": 2,
   "metadata": {},
   "outputs": [],
   "source": [
    "import json\n",
    "import pennylane as qml\n",
    "import pennylane.numpy as np\n",
    "\n",
    "dev = qml.device('default.qubit', wires=1)"
   ]
  },
  {
   "cell_type": "code",
   "execution_count": 3,
   "metadata": {},
   "outputs": [],
   "source": [
    "@qml.qnode(dev)\n",
    "def circuit1(angles):\n",
    "    \"\"\"\n",
    "    A Qnode implementing the circuit shown in the top part of the image\n",
    "\n",
    "    Args:\n",
    "        angles (np.ndarray(float)): A list [theta_1, theta_2] of angle\n",
    "        parameters for the RX and RY gates respectively\n",
    "    \n",
    "    Returns: \n",
    "        (np.tensor): The expectation value of the PauliX observable\n",
    "    \"\"\"\n",
    "    qml.RX(angles[0], wires=0)\n",
    "    qml.RY(angles[1], wires=0)\n",
    "\n",
    "    return qml.expval(qml.PauliX(0))"
   ]
  },
  {
   "cell_type": "code",
   "execution_count": 4,
   "metadata": {},
   "outputs": [],
   "source": [
    "@qml.qnode(dev)\n",
    "def circuit2(angles):\n",
    "    \"\"\"\n",
    "    A Qnode implementing the circuit shown in the bottom part of the image\n",
    "\n",
    "    Args:\n",
    "        angles (np.ndarray(float)): A list [theta_1, theta_2] of angle\n",
    "        parameters for the RX and RY gates respectively\n",
    "    \n",
    "    Returns: \n",
    "        (np.tensor): The expectation value of the PauliX observable\n",
    "    \"\"\"\n",
    "    qml.RY(angles[1], wires=0)\n",
    "    qml.RX(angles[0], wires=0)\n",
    "\n",
    "    return qml.expval(qml.PauliX(0))"
   ]
  },
  {
   "cell_type": "code",
   "execution_count": 5,
   "metadata": {},
   "outputs": [],
   "source": [
    "def compare_circuits(angles):\n",
    "    \"\"\"\n",
    "    Given two angles, compare two circuit outputs that have their order of\n",
    "    operations flipped: RX then RY VERSUS RY then RX.\n",
    "\n",
    "    Args:\n",
    "        angles (np.ndarray(float)): An array of two angles [theta_1, theta_2]\n",
    "\n",
    "    Returns:\n",
    "        (float): The absolute value of the difference between the expectation\n",
    "        values of the circuits.\n",
    "    \"\"\"\n",
    "\n",
    "\n",
    "    return np.abs(circuit1(angles)-circuit2(angles))"
   ]
  },
  {
   "cell_type": "code",
   "execution_count": 6,
   "metadata": {},
   "outputs": [
    {
     "name": "stdout",
     "output_type": "stream",
     "text": [
      "Running test case 0 with input '[3.79894785, 0.71678115]'...\n",
      "Correct!\n",
      "Running test case 1 with input '[5.88344281, 0.30672784]'...\n",
      "Correct!\n"
     ]
    }
   ],
   "source": [
    "# These functions are responsible for testing the solution.\n",
    "def run(test_case_input: str) -> str:\n",
    "    ins = json.loads(test_case_input)\n",
    "    output = compare_circuits(ins)\n",
    "\n",
    "    return str(output)\n",
    "\n",
    "\n",
    "def check(solution_output: str, expected_output: str) -> None:\n",
    "    solution_output = json.loads(solution_output)\n",
    "    expected_output = json.loads(expected_output)\n",
    "    assert np.isclose(solution_output, expected_output, rtol=1e-4)\n",
    "\n",
    "\n",
    "# These are the public test cases\n",
    "test_cases = [\n",
    "    ('[3.79894785, 0.71678115]', '1.177019'),\n",
    "    ('[5.88344281, 0.30672784]', '0.023805')\n",
    "]\n",
    "\n",
    "# This will run the public test cases locally\n",
    "for i, (input_, expected_output) in enumerate(test_cases):\n",
    "    print(f\"Running test case {i} with input '{input_}'...\")\n",
    "\n",
    "    try:\n",
    "        output = run(input_)\n",
    "\n",
    "    except Exception as exc:\n",
    "        print(f\"Runtime Error. {exc}\")\n",
    "\n",
    "    else:\n",
    "        if message := check(output, expected_output):\n",
    "            print(f\"Wrong Answer. Have: '{output}'. Want: '{expected_output}'.\")\n",
    "\n",
    "        else:\n",
    "            print(\"Correct!\")"
   ]
  },
  {
   "cell_type": "code",
   "execution_count": null,
   "metadata": {},
   "outputs": [],
   "source": []
  }
 ],
 "metadata": {
  "kernelspec": {
   "display_name": "Python 3",
   "language": "python",
   "name": "python3"
  },
  "language_info": {
   "codemirror_mode": {
    "name": "ipython",
    "version": 3
   },
   "file_extension": ".py",
   "mimetype": "text/x-python",
   "name": "python",
   "nbconvert_exporter": "python",
   "pygments_lexer": "ipython3",
   "version": "3.11.4"
  },
  "orig_nbformat": 4
 },
 "nbformat": 4,
 "nbformat_minor": 2
}
