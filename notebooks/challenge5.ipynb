{
 "cells": [
  {
   "attachments": {},
   "cell_type": "markdown",
   "metadata": {},
   "source": [
    "# **Universality of single-qubit gates**"
   ]
  },
  {
   "cell_type": "code",
   "execution_count": 1,
   "metadata": {},
   "outputs": [],
   "source": [
    "import json\n",
    "import pennylane as qml\n",
    "import pennylane.numpy as np\n",
    "np.random.seed(1967)"
   ]
  },
  {
   "cell_type": "code",
   "execution_count": 2,
   "metadata": {},
   "outputs": [],
   "source": [
    "def get_matrix(params):\n",
    "    \"\"\"\n",
    "    Args:\n",
    "        - params (array): The four parameters of the model.\n",
    "        \n",
    "    Returns:\n",
    "        - (matrix): The associated matrix to these parameters.\n",
    "    \"\"\"\n",
    "\n",
    "    alpha, beta, gamma, phi = params\n",
    "\n",
    "    m0 = qml.PhaseShift(phi, 0).matrix()\n",
    "    m1 = qml.RZ(gamma, 0).matrix()\n",
    "    m2 = qml.RX(beta, 0).matrix()\n",
    "    m3 = qml.RZ(alpha, 0).matrix()\n",
    "\n",
    "    # Return the matrix\n",
    "    return m0 @ m1 @ m2 @ m3"
   ]
  },
  {
   "cell_type": "code",
   "execution_count": 3,
   "metadata": {},
   "outputs": [],
   "source": [
    "def error(U, params):\n",
    "    \"\"\"\n",
    "    This function determines the similarity between your generated matrix and\n",
    "    the target unitary.\n",
    "\n",
    "    Args:\n",
    "        - U (np.array): Goal matrix that we want to approach.\n",
    "        - params (array): The four parameters of the model.\n",
    "\n",
    "    Returns:\n",
    "        - (float): Error associated with the quality of the solution.\n",
    "    \"\"\"\n",
    "\n",
    "    matrix = get_matrix(params)\n",
    "\n",
    "    # Return the error\n",
    "    return np.abs(U - matrix).sum()"
   ]
  },
  {
   "cell_type": "code",
   "execution_count": 4,
   "metadata": {},
   "outputs": [
    {
     "name": "stdout",
     "output_type": "stream",
     "text": [
      "Running test case 0 with input '[[ 0.70710678,  0.70710678], [ 0.70710678, -0.70710678]]'...\n",
      "Correct!\n",
      "Running test case 1 with input '[[ 1,  0], [ 0, -1]]'...\n",
      "Correct!\n"
     ]
    }
   ],
   "source": [
    "def train_parameters(U):\n",
    "    epochs = 1000\n",
    "    lr = 0.01\n",
    "\n",
    "    grad = qml.grad(error, argnum=1)\n",
    "    params = np.random.rand(4) * np.pi\n",
    "\n",
    "    for epoch in range(epochs):\n",
    "        params -= lr * grad(U, params)\n",
    "\n",
    "    return params\n",
    "\n",
    "\n",
    "# These functions are responsible for testing the solution.\n",
    "def run(test_case_input: str) -> str:\n",
    "    matrix = json.loads(test_case_input)\n",
    "    params = [float(p) for p in train_parameters(matrix)]\n",
    "    return json.dumps(params)\n",
    "\n",
    "\n",
    "def check(solution_output: str, expected_output: str) -> None:\n",
    "    matrix1 = get_matrix(json.loads(solution_output))\n",
    "    matrix2 = json.loads(expected_output)\n",
    "    assert not np.allclose(get_matrix(np.random.rand(4)), get_matrix(np.random.rand(4)))\n",
    "    assert np.allclose(matrix1, matrix2, atol=0.2)\n",
    "\n",
    "\n",
    "# These are the public test cases\n",
    "test_cases = [\n",
    "    ('[[ 0.70710678,  0.70710678], [ 0.70710678, -0.70710678]]', '[[ 0.70710678,  0.70710678], [ 0.70710678, -0.70710678]]'),\n",
    "    ('[[ 1,  0], [ 0, -1]]', '[[ 1,  0], [ 0, -1]]')\n",
    "]\n",
    "\n",
    "# This will run the public test cases locally\n",
    "for i, (input_, expected_output) in enumerate(test_cases):\n",
    "    print(f\"Running test case {i} with input '{input_}'...\")\n",
    "\n",
    "    try:\n",
    "        output = run(input_)\n",
    "\n",
    "    except Exception as exc:\n",
    "        print(f\"Runtime Error. {exc}\")\n",
    "\n",
    "    else:\n",
    "        if message := check(output, expected_output):\n",
    "            print(f\"Wrong Answer. Have: '{output}'. Want: '{expected_output}'.\")\n",
    "\n",
    "        else:\n",
    "            print(\"Correct!\")"
   ]
  }
 ],
 "metadata": {
  "kernelspec": {
   "display_name": "Python 3",
   "language": "python",
   "name": "python3"
  },
  "language_info": {
   "codemirror_mode": {
    "name": "ipython",
    "version": 3
   },
   "file_extension": ".py",
   "mimetype": "text/x-python",
   "name": "python",
   "nbconvert_exporter": "python",
   "pygments_lexer": "ipython3",
   "version": "3.11.4"
  },
  "orig_nbformat": 4
 },
 "nbformat": 4,
 "nbformat_minor": 2
}
